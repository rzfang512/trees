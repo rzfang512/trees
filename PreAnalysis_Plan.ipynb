{
  "nbformat": 4,
  "nbformat_minor": 0,
  "metadata": {
    "colab": {
      "provenance": [],
      "authorship_tag": "ABX9TyNgV2KrtZBAQEcU2ItpgX+5",
      "include_colab_link": true
    },
    "kernelspec": {
      "name": "python3",
      "display_name": "Python 3"
    },
    "language_info": {
      "name": "python"
    }
  },
  "cells": [
    {
      "cell_type": "markdown",
      "metadata": {
        "id": "view-in-github",
        "colab_type": "text"
      },
      "source": [
        "<a href=\"https://colab.research.google.com/github/rzfang512/trees/blob/main/PreAnalysis_Plan.ipynb\" target=\"_parent\"><img src=\"https://colab.research.google.com/assets/colab-badge.svg\" alt=\"Open In Colab\"/></a>"
      ]
    },
    {
      "cell_type": "markdown",
      "source": [
        "# Project Pre-Analysis Plan\n",
        "\n",
        "Research question: Can sleep patterns help predict productivity.\n",
        "\n",
        "# 1. Introduction\n",
        "\n",
        "We often heard the phrase \"sleep is important\", but how much correlation can we actually say about sleep connection to productivity? In this project, we want to explore whether sleep-related behaviors, such as length of sleep, time people go to bed, and how consistent the sleep schedule is, can help us predict how productive people be the next day.\n",
        "\n",
        "In simple terms, we are asking the research question: *Can we predict a person's productivity using their sleep data?*\n",
        "\n",
        "We are approaching this as a machine learning problem, where sleep variables will serve as input features, and productivity will be the target we try to predict.\n",
        "\n",
        "# 2. What is the obervation?\n",
        "\n",
        "Each row in our dataset represents one day of data for one individual. It includes their sleep behavior from the previous night and their productivity outcome for that day.\n",
        "\n",
        "# 3. What type of learning are we doing?\n",
        "This is a supervised learning task, since we are trying to predict: if productivity is measured as a number, we will use regression, 2. if it is recorded as categories, we will treat it as a classification problem.\n",
        "\n",
        "# 4. Which models will we use?\n",
        "All of the models we plan to use come from our course materials and the GitHub repo provided by our instructor. We will be starting simple and building up.\n",
        "1. Linear regression-a good baseline\n",
        "2. Log regression-if we are predicting categories\n",
        "3. K-nearest neighbors-a model that classifies by looking at similar examples\n",
        "4. Decision Trees-helps us see how different variables split the data\n",
        "\n",
        "We might also add Artifical Neural Networks to our model if we need more flexible and powerful model. We might ass PCA to reduce the number of features.\n",
        "\n",
        "# 5. Feature Engineering\n",
        "To prepare the data for modeling we will take following steps:\n",
        "\n",
        "1. Create new features like total hours of sleep, bedtime hour, and sleep consistency\n",
        "2. One-hot encode categorical variables\n",
        "3. Standardized numerical values, especially for distance based model (KNN)\n",
        "4. Check for correlations between features, if there is strong multicollinearity, we will use PCA to address it.\n",
        "\n",
        "# 6. How will we measure success?\n",
        "For regression\n",
        "1. RMSE\n",
        "2. MAR\n",
        "3. R^2\n",
        "\n",
        "For classification\n",
        "1. Accuracy\n",
        "2. F1 score\n",
        "3. Precision and recall\n",
        "4. Confusion Matrix\n",
        "\n",
        "# 7. What does \"Success\" look like\n",
        "\n",
        "For our project, we are not expecting to perfectly predict productivity, there is a lot going on in people's life that we can't quantify. But if our model performs better than the baseline, and if we can understand which sleep behaviors are most predictive, we will consider it to be a success. Moreover, if our results are consistent across validation sets, it is a good sign showing that we are not overfitting.\n",
        "\n",
        "# 8 What could go wrong?\n",
        "We are aware of a few potential issues:\n",
        "1. Sleep might not matter that much: Maybe other factors (like stress, meetings, or caffeine) play a bigger role in productivity.\n",
        "2. Small dataset: If we do not have much data, some models might not work well.\n",
        "3. Messy target variable: Productivity is hard to measure and might be subjective.\n",
        "4. Correlated features: Variables like bedtime and wake-up time might be too closely related.\n",
        "\n",
        "If things go badly, we are prepared to shift directions. For example, we might use clustering to group people by their sleep habits and see whether those groups differ in average productivity. That would move us into unsupervised learning, which is also covered in our course.\n",
        "\n",
        "# 9. Sharing the results\n",
        "We’ll present our findings with:\n",
        "1. Plots showing how predicted and actual productivity compare.\n",
        "2. Confusion matrices for classification models.\n",
        "3. Tables that compare different models’ performance.\n",
        "4. Feature importance charts or regression coefficients to show what variables mattered most.\n",
        "\n",
        "We’ll aim for clear visualizations and straightforward explanations.\n",
        "\n",
        "# Conclusion\n",
        "This plan sets the foundation for a thoughtful and structured analysis using techniques we’ve learned in class. Whether or not sleep turns out to be a strong predictor of productivity, we’ll gain experience applying real data science tools to a real-world question.\n",
        "We’re ready to test a few ideas, learn from what works (or doesn’t), and avoid falling into the trap of endlessly tweaking our models. The goal is to build something meaningful, not just something that gets a high accuracy score.\n",
        "\n"
      ],
      "metadata": {
        "id": "T1hU06inlcKV"
      }
    }
  ]
}